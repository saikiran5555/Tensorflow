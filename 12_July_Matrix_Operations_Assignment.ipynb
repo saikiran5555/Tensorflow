{
 "cells": [
  {
   "cell_type": "markdown",
   "id": "5b924718",
   "metadata": {},
   "source": [
    "# Part 1: Theoretical Questions"
   ]
  },
  {
   "cell_type": "markdown",
   "id": "805aad8b",
   "metadata": {},
   "source": [
    "1.  Tensors: Tensors are multi-dimensional arrays used to represent data in TensorFlow. They can be scalars (0-D tensors), vectors (1-D tensors), matrices (2-D tensors), or higher-dimensional arrays. Tensors are the fundamental building blocks for representing data and performing mathematical operations in TensorFlow.\n",
    "\n",
    "Variables: Variables are tensors that hold mutable state and are typically used to represent model parameters that need to be optimized during training. Variables are initialized with an initial value and can be updated using operations like assignment.\n",
    "\n",
    "Datasets: Datasets are a data structure used for building efficient input pipelines in TensorFlow. They represent sequences of elements (such as tensors or NumPy arrays) and support various transformations and operations for preprocessing and batching data. Datasets are commonly used for loading and processing large datasets during training.\n",
    "\n",
    "Sparse Tensors: Sparse tensors are a specialized data structure used for representing tensors with a large number of elements that are mostly zero. Sparse tensors store only the non-zero values along with their indices, allowing for significant memory savings and computational efficiency when working with sparse data.\n",
    "\n",
    "These data structures form the foundation of TensorFlow and are essential for building and training machine learning models efficiently. They provide the necessary tools for representing and manipulating data, model parameters, and input pipelines throughout the machine learning workflow."
   ]
  },
  {
   "cell_type": "markdown",
   "id": "8369b867",
   "metadata": {},
   "source": [
    "2.  TensorFlow Constant:\n",
    "\n",
    "A TensorFlow constant represents a tensor whose value remains fixed throughout the execution of a TensorFlow graph.\n",
    "Once defined, the value of a constant cannot be changed.\n",
    "Constants are typically used to represent fixed values such as hyperparameters, input data, or model parameters that do not change during the execution of the graph.\n",
    "Constants are immutable and cannot be modified during computation.\n",
    "TensorFlow Variable:\n",
    "\n",
    "A TensorFlow variable represents a tensor whose value can be changed during the execution of a TensorFlow graph.\n",
    "Variables are mutable and can be modified using operations like assignment (assign()).\n",
    "Variables are often used to represent trainable parameters of a model, such as weights and biases, which need to be updated during training to minimize the loss function.\n",
    "Variables are mutable and can be modified during computation, making them suitable for storing and updating parameters during training.\n",
    "In summary, TensorFlow constants are immutable tensors with fixed values, while TensorFlow variables are mutable tensors whose values can be modified during computation, typically used to represent model parameters that need to be updated during training."
   ]
  },
  {
   "cell_type": "markdown",
   "id": "47867995",
   "metadata": {},
   "source": [
    "3.   Matrix Addition:\n",
    "\n",
    "Matrix addition involves adding corresponding elements of two matrices to produce a new matrix of the same shape.\n",
    "In TensorFlow, matrix addition can be performed using the tf.add() function or the + operator.\n",
    "Both methods allow for element-wise addition of two matrices of the same shape.\n",
    "The resulting matrix will have the same dimensions as the input matrices, with each element being the sum of the corresponding elements from the input matrices.\n",
    "Matrix Multiplication:\n",
    "\n",
    "Matrix multiplication involves multiplying corresponding elements of rows and columns between two matrices to produce a new matrix.\n",
    "In TensorFlow, matrix multiplication can be performed using the tf.matmul() function or the @ operator.\n",
    "Both methods allow for matrix multiplication between two matrices, with the number of columns in the first matrix being equal to the number of rows in the second matrix.\n",
    "The resulting matrix will have dimensions equal to the number of rows of the first matrix and the number of columns of the second matrix.\n",
    "Element-wise Operations:\n",
    "\n",
    "Element-wise operations involve applying arithmetic operations (such as addition, subtraction, multiplication, and division) to corresponding elements of tensors.\n",
    "In TensorFlow, element-wise operations can be performed using functions like tf.add(), tf.subtract(), tf.multiply(), and tf.divide().\n",
    "These operations are applied element-wise between corresponding elements of two tensors, producing a new tensor of the same shape.\n",
    "Element-wise operations are useful for performing operations on tensors where each element's value is independently calculated based on the corresponding elements of other tensors.\n",
    "In summary, TensorFlow provides functions and operators for performing matrix addition, multiplication, and element-wise operations efficiently. These operations are fundamental in many machine learning and numerical computing tasks and are essential for building and training deep learning models."
   ]
  },
  {
   "cell_type": "markdown",
   "id": "b2070498",
   "metadata": {},
   "source": [
    "# Part 2: Practical Implementation"
   ]
  },
  {
   "cell_type": "markdown",
   "id": "b40dd5ac",
   "metadata": {},
   "source": [
    "# Task 1: Creating and Manipulating Matrices"
   ]
  },
  {
   "cell_type": "code",
   "execution_count": 2,
   "id": "543c0369",
   "metadata": {},
   "outputs": [
    {
     "name": "stdout",
     "output_type": "stream",
     "text": [
      "WARNING:tensorflow:From C:\\Users\\91779\\anaconda3\\lib\\site-packages\\keras\\src\\losses.py:2976: The name tf.losses.sparse_softmax_cross_entropy is deprecated. Please use tf.compat.v1.losses.sparse_softmax_cross_entropy instead.\n",
      "\n",
      "Matrix A:\n",
      "tf.Tensor(\n",
      "[[ 1.0738744  -0.55689853]\n",
      " [-1.6660237  -0.2845878 ]], shape=(2, 2), dtype=float32)\n"
     ]
    }
   ],
   "source": [
    "import tensorflow as tf\n",
    "\n",
    "# Create a 2x2 matrix A with random values sampled from a normal distribution\n",
    "A = tf.random.normal(shape=(2, 2))\n",
    "\n",
    "# Display the values of matrix A\n",
    "print(\"Matrix A:\")\n",
    "print(A)\n"
   ]
  },
  {
   "cell_type": "code",
   "execution_count": 4,
   "id": "d0940e4a",
   "metadata": {},
   "outputs": [
    {
     "name": "stdout",
     "output_type": "stream",
     "text": [
      "Gaussian Matrix B:\n",
      "[[-1.6381128  -0.20434417 -0.42558613  0.11995108]\n",
      " [ 1.3548584  -1.0029389   0.62856364  0.49502543]\n",
      " [ 0.76996154  0.75793165  0.6173063  -0.20136514]\n",
      " [-0.66030025 -0.11400644 -0.73703617 -0.69669586]]\n"
     ]
    }
   ],
   "source": [
    "import tensorflow as tf\n",
    "\n",
    "# Define the dimensions of the matrix\n",
    "x = 4\n",
    "\n",
    "# Create the Gaussian matrix B using tf.random.truncated_normal\n",
    "B = tf.random.truncated_normal(shape=(x, x), mean=0.0, stddev=1.0)\n",
    "\n",
    "# Print the values of matrix B\n",
    "print(\"Gaussian Matrix B:\")\n",
    "print(B.numpy())\n"
   ]
  },
  {
   "cell_type": "code",
   "execution_count": 5,
   "id": "dacd1eff",
   "metadata": {},
   "outputs": [
    {
     "name": "stdout",
     "output_type": "stream",
     "text": [
      "Matrix C:\n",
      "tf.Tensor(\n",
      "[[2.0127728 2.0952168]\n",
      " [2.1207714 2.0340025]], shape=(2, 2), dtype=float32)\n"
     ]
    }
   ],
   "source": [
    "import tensorflow as tf\n",
    "\n",
    "# Define mean and standard deviation\n",
    "mean = 2\n",
    "stddev = 0.1  # Replace 0.x with the desired standard deviation\n",
    "\n",
    "# Create a 2x2 matrix C with random values sampled from a normal distribution\n",
    "C = tf.random.normal(shape=(2, 2), mean=mean, stddev=stddev)\n",
    "\n",
    "# Display the values of matrix C\n",
    "print(\"Matrix C:\")\n",
    "print(C)\n"
   ]
  },
  {
   "cell_type": "code",
   "execution_count": 6,
   "id": "3fda0f27",
   "metadata": {},
   "outputs": [
    {
     "name": "stdout",
     "output_type": "stream",
     "text": [
      "Matrix D (Result of Addition):\n",
      "[[ 6  8]\n",
      " [10 12]]\n"
     ]
    }
   ],
   "source": [
    "import tensorflow as tf\n",
    "\n",
    "# Define matrix A and matrix B\n",
    "A = tf.constant([[1, 2], [3, 4]])\n",
    "B = tf.constant([[5, 6], [7, 8]])\n",
    "\n",
    "# Perform matrix addition\n",
    "D = tf.add(A, B)\n",
    "\n",
    "# Print the result\n",
    "print(\"Matrix D (Result of Addition):\")\n",
    "print(D.numpy())\n"
   ]
  },
  {
   "cell_type": "code",
   "execution_count": 7,
   "id": "f39374fc",
   "metadata": {},
   "outputs": [
    {
     "name": "stdout",
     "output_type": "stream",
     "text": [
      "Matrix E (Result of C * D):\n",
      "tf.Tensor(\n",
      "[[ 0.06812222 -4.4145107 ]\n",
      " [ 0.04806717 -4.293281  ]], shape=(2, 2), dtype=float32)\n"
     ]
    }
   ],
   "source": [
    "import tensorflow as tf\n",
    "\n",
    "# Assume matrix C is already defined as shown previously\n",
    "# For demonstration, redefining matrix C with fixed mean and stddev\n",
    "mean_C = 2\n",
    "stddev_C = 0.1\n",
    "C = tf.random.normal(shape=(2, 2), mean=mean_C, stddev=stddev_C)\n",
    "\n",
    "# Define matrix D, here we use random values with a different mean and stddev for variety\n",
    "mean_D = 0\n",
    "stddev_D = 1\n",
    "D = tf.random.normal(shape=(2, 2), mean=mean_D, stddev=stddev_D)\n",
    "\n",
    "# Perform matrix multiplication between C and D to get E\n",
    "E = tf.matmul(C, D)\n",
    "\n",
    "# Display the values of matrix E\n",
    "print(\"Matrix E (Result of C * D):\")\n",
    "print(E)\n"
   ]
  },
  {
   "cell_type": "markdown",
   "id": "f6982512",
   "metadata": {},
   "source": [
    "# Task 2: Performing Additional Matrix Operations"
   ]
  },
  {
   "cell_type": "code",
   "execution_count": 8,
   "id": "8144b559",
   "metadata": {},
   "outputs": [
    {
     "name": "stdout",
     "output_type": "stream",
     "text": [
      "Matrix F (Random Uniform):\n",
      "[[0.6294819  0.12578583]\n",
      " [0.47766197 0.7236941 ]]\n"
     ]
    }
   ],
   "source": [
    "import tensorflow as tf\n",
    "\n",
    "# Define the dimensions of the matrix\n",
    "rows = 2\n",
    "cols = 2\n",
    "\n",
    "# Create the matrix F with random values\n",
    "F = tf.random.uniform(shape=(rows, cols), minval=0, maxval=1)\n",
    "\n",
    "# Print the matrix F\n",
    "print(\"Matrix F (Random Uniform):\")\n",
    "print(F.numpy())\n"
   ]
  },
  {
   "cell_type": "code",
   "execution_count": 9,
   "id": "605007fb",
   "metadata": {},
   "outputs": [
    {
     "name": "stdout",
     "output_type": "stream",
     "text": [
      "Matrix G (Transpose of F):\n",
      "tf.Tensor(\n",
      "[[1 3]\n",
      " [2 4]], shape=(2, 2), dtype=int32)\n"
     ]
    }
   ],
   "source": [
    "import tensorflow as tf\n",
    "\n",
    "# Assume matrix F is already defined or generated\n",
    "# For demonstration, let's create a sample matrix F\n",
    "F = tf.constant([[1, 2], [3, 4]])\n",
    "\n",
    "# Calculate the transpose of matrix F and store the result in matrix G\n",
    "G = tf.transpose(F)\n",
    "\n",
    "# Display the values of matrix G\n",
    "print(\"Matrix G (Transpose of F):\")\n",
    "print(G)\n"
   ]
  },
  {
   "cell_type": "code",
   "execution_count": 10,
   "id": "bd787cff",
   "metadata": {},
   "outputs": [
    {
     "name": "stdout",
     "output_type": "stream",
     "text": [
      "Matrix H (Element-wise exponential of F):\n",
      "tf.Tensor(\n",
      "[[ 2.7182817  7.389056 ]\n",
      " [20.085537  54.59815  ]], shape=(2, 2), dtype=float32)\n"
     ]
    }
   ],
   "source": [
    "import tensorflow as tf\n",
    "\n",
    "# Assume matrix F is already defined or generated\n",
    "# For demonstration, let's create a sample matrix F\n",
    "F = tf.constant([[1, 2], [3, 4]], dtype=tf.float32)  # Define matrix F\n",
    "\n",
    "# Calculate the element-wise exponential of matrix F and store the result in matrix H\n",
    "H = tf.exp(F)\n",
    "\n",
    "# Display the values of matrix H\n",
    "print(\"Matrix H (Element-wise exponential of F):\")\n",
    "print(H)\n"
   ]
  },
  {
   "cell_type": "code",
   "execution_count": 11,
   "id": "877ccb0e",
   "metadata": {},
   "outputs": [
    {
     "name": "stdout",
     "output_type": "stream",
     "text": [
      "Matrix I (Concatenated Horizontally):\n",
      "[[1 2 5 6]\n",
      " [3 4 7 8]]\n"
     ]
    }
   ],
   "source": [
    "import tensorflow as tf\n",
    "\n",
    "# Assuming F and G are already defined\n",
    "F = tf.constant([[1, 2], [3, 4]])\n",
    "G = tf.constant([[5, 6], [7, 8]])\n",
    "\n",
    "# Concatenate matrices F and G horizontally\n",
    "I = tf.concat([F, G], axis=1)\n",
    "\n",
    "# Print the concatenated matrix I\n",
    "print(\"Matrix I (Concatenated Horizontally):\")\n",
    "print(I.numpy())\n"
   ]
  },
  {
   "cell_type": "code",
   "execution_count": 12,
   "id": "020bc8d1",
   "metadata": {},
   "outputs": [
    {
     "name": "stdout",
     "output_type": "stream",
     "text": [
      "Matrix J (Concatenation of F and H vertically):\n",
      "tf.Tensor(\n",
      "[[ 1.         2.       ]\n",
      " [ 3.         4.       ]\n",
      " [ 2.7182817  7.389056 ]\n",
      " [20.085537  54.59815  ]], shape=(4, 2), dtype=float32)\n"
     ]
    }
   ],
   "source": [
    "import tensorflow as tf\n",
    "\n",
    "# Assume matrix F and matrix H are already defined or generated\n",
    "# For demonstration, let's create sample matrices F and H\n",
    "F = tf.constant([[1, 2], [3, 4]], dtype=tf.float32)\n",
    "H = tf.exp(F)  # Element-wise exponential of matrix F\n",
    "\n",
    "# Concatenate matrix F and matrix H vertically to create matrix J\n",
    "J = tf.concat([F, H], axis=0)\n",
    "\n",
    "# Display the values of matrix J\n",
    "print(\"Matrix J (Concatenation of F and H vertically):\")\n",
    "print(J)\n"
   ]
  },
  {
   "cell_type": "code",
   "execution_count": null,
   "id": "a2156163",
   "metadata": {},
   "outputs": [],
   "source": []
  }
 ],
 "metadata": {
  "kernelspec": {
   "display_name": "Python 3 (ipykernel)",
   "language": "python",
   "name": "python3"
  },
  "language_info": {
   "codemirror_mode": {
    "name": "ipython",
    "version": 3
   },
   "file_extension": ".py",
   "mimetype": "text/x-python",
   "name": "python",
   "nbconvert_exporter": "python",
   "pygments_lexer": "ipython3",
   "version": "3.10.9"
  }
 },
 "nbformat": 4,
 "nbformat_minor": 5
}
